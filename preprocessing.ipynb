{
 "cells": [
  {
   "cell_type": "markdown",
   "id": "86c5f314",
   "metadata": {},
   "source": [
    "# Preprocessing"
   ]
  },
  {
   "cell_type": "markdown",
   "id": "03afaef9",
   "metadata": {},
   "source": [
    "Load data"
   ]
  },
  {
   "cell_type": "code",
   "execution_count": null,
   "id": "0ef6d049",
   "metadata": {
    "vscode": {
     "languageId": "plaintext"
    }
   },
   "outputs": [],
   "source": [
    "# Define column names based on welddb.info\n",
    "import pandas as pd\n",
    "import numpy as np\n",
    "import matplotlib.pyplot as plt\n",
    "import seaborn as sns\n",
    "from sklearn.preprocessing import StandardScaler\n",
    "from sklearn.decomposition import PCA\n",
    "from sklearn.impute import SimpleImputer\n",
    "\n",
    "column_names = [\n",
    "    'carbon_wt_pct', 'silicon_wt_pct', 'manganese_wt_pct', 'sulphur_wt_pct', 'phosphorus_wt_pct',\n",
    "    'nickel_wt_pct', 'chromium_wt_pct', 'molybdenum_wt_pct', 'vanadium_wt_pct', 'copper_wt_pct',\n",
    "    'cobalt_wt_pct', 'tungsten_wt_pct', 'oxygen_ppm', 'titanium_ppm', 'nitrogen_ppm', 'aluminium_ppm',\n",
    "    'boron_ppm', 'niobium_ppm', 'tin_ppm', 'arsenic_ppm', 'antimony_ppm', 'current_a', 'voltage_v',\n",
    "    'ac_dc', 'electrode_polarity', 'heat_input_kj_per_mm', 'interpass_temp_c', 'weld_type',\n",
    "    'pwht_temp_c', 'pwht_time_h', 'yield_strength_mpa', 'ultimate_tensile_strength_mpa',\n",
    "    'elongation_pct', 'reduction_area_pct', 'charpy_temp_c', 'charpy_toughness_j',\n",
    "    'hardness_kg_per_mm2', 'fatt50_pct', 'primary_ferrite_pct', 'ferrite_second_phase_pct',\n",
    "    'acicular_ferrite_pct', 'martensite_pct', 'ferrite_carbide_aggregate_pct', 'weld_id'\n",
    "]\n",
    "\n",
    "# Load the data\n",
    "print(\"Loading data from welddb/welddb.data...\")\n",
    "data = pd.read_csv('welddb/welddb.data', sep=r'\\s+', names=column_names, na_values='N')"
   ]
  },
  {
   "cell_type": "markdown",
   "id": "e817e31f",
   "metadata": {},
   "source": [
    "## Cleaning"
   ]
  },
  {
   "cell_type": "markdown",
   "id": "100b4360",
   "metadata": {},
   "source": [
    "Dummy variables"
   ]
  },
  {
   "cell_type": "markdown",
   "id": "248065a7",
   "metadata": {},
   "source": [
    "Delete columns with more than 50% missing values"
   ]
  },
  {
   "cell_type": "code",
   "execution_count": null,
   "id": "753bfe94",
   "metadata": {
    "vscode": {
     "languageId": "plaintext"
    }
   },
   "outputs": [],
   "source": []
  },
  {
   "cell_type": "markdown",
   "id": "92ce7f2e",
   "metadata": {},
   "source": [
    "## Feature analysis"
   ]
  },
  {
   "cell_type": "markdown",
   "id": "fa536763",
   "metadata": {},
   "source": [
    "## PCA"
   ]
  },
  {
   "cell_type": "markdown",
   "id": "4f200023",
   "metadata": {},
   "source": []
  },
  {
   "cell_type": "markdown",
   "id": "5f6b1136",
   "metadata": {},
   "source": [
    "## Justification of target variables"
   ]
  },
  {
   "cell_type": "markdown",
   "id": "480bc3ab",
   "metadata": {},
   "source": []
  }
 ],
 "metadata": {
  "language_info": {
   "name": "python"
  }
 },
 "nbformat": 4,
 "nbformat_minor": 5
}
