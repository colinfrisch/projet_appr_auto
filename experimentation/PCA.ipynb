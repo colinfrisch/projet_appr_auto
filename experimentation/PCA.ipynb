{
 "cells": [
  {
   "cell_type": "markdown",
   "metadata": {},
   "source": [
    "# WELDDB DATASET - PRINCIPAL COMPONENT ANALYSIS\n",
    "\n",
    "This notebook performs a comprehensive PCA analysis on the welddb dataset to understand feature importance and dimensionality reduction opportunities."
   ]
  },
  {
   "cell_type": "markdown",
   "metadata": {},
   "source": [
    "## 1. Import Libraries and Setup"
   ]
  },
  {
   "cell_type": "code",
   "execution_count": 13,
   "metadata": {},
   "outputs": [],
   "source": [
    "import pandas as pd\n",
    "import numpy as np\n",
    "import matplotlib.pyplot as plt\n",
    "import seaborn as sns\n",
    "from sklearn.preprocessing import StandardScaler\n",
    "from sklearn.decomposition import PCA\n",
    "from sklearn.impute import SimpleImputer\n",
    "\n",
    "# Set style for better visualizations\n",
    "sns.set_style(\"whitegrid\")\n",
    "plt.rcParams['figure.figsize'] = (12, 8)"
   ]
  },
  {
   "cell_type": "markdown",
   "metadata": {},
   "source": [
    "## 2. Define Column Names and Load Data"
   ]
  },
  {
   "cell_type": "code",
   "execution_count": null,
   "metadata": {},
   "outputs": [
    {
     "name": "stdout",
     "output_type": "stream",
     "text": [
      "Loading data from welddb/welddb.data...\n",
      "Dataset shape: (1652, 44)\n",
      "Number of samples: 1652\n",
      "Number of features: 44\n"
     ]
    }
   ],
   "source": [
    "# Define column names based on welddb.info\n",
    "import pandas as pd\n",
    "import numpy as np\n",
    "import matplotlib.pyplot as plt\n",
    "import seaborn as sns\n",
    "from sklearn.preprocessing import StandardScaler\n",
    "from sklearn.decomposition import PCA\n",
    "from sklearn.impute import SimpleImputer\n",
    "\n",
    "column_names = [\n",
    "    'carbon_wt_pct', 'silicon_wt_pct', 'manganese_wt_pct', 'sulphur_wt_pct', 'phosphorus_wt_pct',\n",
    "    'nickel_wt_pct', 'chromium_wt_pct', 'molybdenum_wt_pct', 'vanadium_wt_pct', 'copper_wt_pct',\n",
    "    'cobalt_wt_pct', 'tungsten_wt_pct', 'oxygen_ppm', 'titanium_ppm', 'nitrogen_ppm', 'aluminium_ppm',\n",
    "    'boron_ppm', 'niobium_ppm', 'tin_ppm', 'arsenic_ppm', 'antimony_ppm', 'current_a', 'voltage_v',\n",
    "    'ac_dc', 'electrode_polarity', 'heat_input_kj_per_mm', 'interpass_temp_c', 'weld_type',\n",
    "    'pwht_temp_c', 'pwht_time_h', 'yield_strength_mpa', 'ultimate_tensile_strength_mpa',\n",
    "    'elongation_pct', 'reduction_area_pct', 'charpy_temp_c', 'charpy_toughness_j',\n",
    "    'hardness_kg_per_mm2', 'fatt50_pct', 'primary_ferrite_pct', 'ferrite_second_phase_pct',\n",
    "    'acicular_ferrite_pct', 'martensite_pct', 'ferrite_carbide_aggregate_pct', 'weld_id'\n",
    "]\n",
    "\n",
    "# Load the data\n",
    "print(\"Loading data from welddb/welddb.data...\")\n",
    "data = pd.read_csv('welddb/welddb.data', sep=r'\\s+', names=column_names, na_values='N')\n",
    "print(f\"Dataset shape: {data.shape}\")\n",
    "print(f\"Number of samples: {data.shape[0]}\")\n",
    "print(f\"Number of features: {data.shape[1]}\")"
   ]
  },
  {
   "cell_type": "markdown",
   "metadata": {},
   "source": [
    "## 3. Data Cleaning and Preprocessing"
   ]
  },
  {
   "cell_type": "code",
   "execution_count": 15,
   "metadata": {},
   "outputs": [
    {
     "name": "stdout",
     "output_type": "stream",
     "text": [
      "Identifying feature columns and potential target columns...\n",
      "\n",
      "Converting categorical features to dummy variables...\n",
      "  ac_dc: 1 dummy variable(s) created\n",
      "  electrode_polarity: 2 dummy variable(s) created\n",
      "  weld_type: 9 dummy variable(s) created\n",
      "\n",
      "Numeric features (27):\n",
      "['carbon_wt_pct', 'silicon_wt_pct', 'manganese_wt_pct', 'sulphur_wt_pct', 'phosphorus_wt_pct', 'nickel_wt_pct', 'chromium_wt_pct', 'molybdenum_wt_pct', 'vanadium_wt_pct', 'copper_wt_pct', 'cobalt_wt_pct', 'tungsten_wt_pct', 'oxygen_ppm', 'titanium_ppm', 'nitrogen_ppm', 'aluminium_ppm', 'boron_ppm', 'niobium_ppm', 'tin_ppm', 'arsenic_ppm', 'antimony_ppm', 'current_a', 'voltage_v', 'heat_input_kj_per_mm', 'interpass_temp_c', 'pwht_temp_c', 'pwht_time_h']\n",
      "\n",
      "Categorical dummy features (12):\n",
      "['ac_dc_DC', 'electrode_polarity_-', 'electrode_polarity_0', 'weld_type_GMAA', 'weld_type_GTAA', 'weld_type_MMA', 'weld_type_NGGMA', 'weld_type_NGSAW', 'weld_type_SA', 'weld_type_SAA', 'weld_type_ShMA', 'weld_type_TSA']\n",
      "\n",
      "Potential target variables:\n",
      "  - Mechanical Properties: ['yield_strength_mpa', 'ultimate_tensile_strength_mpa', 'elongation_pct', 'reduction_area_pct']\n",
      "  - Impact Toughness: ['charpy_temp_c', 'charpy_toughness_j', 'hardness_kg_per_mm2', 'fatt50_pct']\n",
      "  - Microstructure: ['primary_ferrite_pct', 'ferrite_second_phase_pct', 'acicular_ferrite_pct', 'martensite_pct', 'ferrite_carbide_aggregate_pct']\n"
     ]
    }
   ],
   "source": [
    "# Handle non-numeric values (e.g., '<0.002' should be treated as a small number)\n",
    "def clean_numeric(val):\n",
    "    \"\"\"Convert strings like '<0.002' to numeric values\"\"\"\n",
    "    if pd.isna(val):\n",
    "        return np.nan\n",
    "    if isinstance(val, str):\n",
    "        if val.startswith('<'):\n",
    "            return float(val[1:]) * 0.5  # Use half the detection limit\n",
    "        elif val.startswith('>'):\n",
    "            return float(val[1:]) * 1.5  # Use 1.5x the upper limit\n",
    "    return val\n",
    "\n",
    "# Separate features and potential targets\n",
    "print(\"Identifying feature columns and potential target columns...\")\n",
    "\n",
    "# Features: columns 0-29 (chemical composition and welding parameters)\n",
    "numeric_feature_cols = column_names[:30]\n",
    "# Identify categorical features\n",
    "categorical_features = ['ac_dc', 'electrode_polarity', 'weld_type']\n",
    "# Numeric features (exclude categoricals)\n",
    "numeric_feature_cols = [col for col in numeric_feature_cols if col not in categorical_features]\n",
    "\n",
    "# Potential target variables\n",
    "target_cols = {\n",
    "    'Mechanical Properties': ['yield_strength_mpa', 'ultimate_tensile_strength_mpa',\n",
    "                              'elongation_pct', 'reduction_area_pct'],\n",
    "    'Impact Toughness': ['charpy_temp_c', 'charpy_toughness_j',\n",
    "                        'hardness_kg_per_mm2', 'fatt50_pct'],\n",
    "    'Microstructure': ['primary_ferrite_pct', 'ferrite_second_phase_pct',\n",
    "                      'acicular_ferrite_pct', 'martensite_pct',\n",
    "                      'ferrite_carbide_aggregate_pct']\n",
    "}\n",
    "\n",
    "# Get all target column names\n",
    "all_target_cols = []\n",
    "for targets in target_cols.values():\n",
    "    all_target_cols.extend(targets)\n",
    "\n",
    "# Apply cleaning to all numeric columns (features and targets)\n",
    "for col in numeric_feature_cols + all_target_cols:\n",
    "    if col in data.columns:\n",
    "        data[col] = data[col].apply(clean_numeric)\n",
    "        data[col] = pd.to_numeric(data[col], errors='coerce')\n",
    "\n",
    "# Convert categorical features to dummy variables\n",
    "print(\"\\nConverting categorical features to dummy variables...\")\n",
    "categorical_dummies = []\n",
    "for cat_col in categorical_features:\n",
    "    if cat_col in data.columns:\n",
    "        # Create dummy variables, drop first to avoid multicollinearity\n",
    "        dummies = pd.get_dummies(data[cat_col], prefix=cat_col, drop_first=True, dtype=float)\n",
    "        categorical_dummies.append(dummies)\n",
    "        print(f\"  {cat_col}: {len(dummies.columns)} dummy variable(s) created\")\n",
    "\n",
    "# Combine all dummies into one DataFrame\n",
    "if categorical_dummies:\n",
    "    categorical_df = pd.concat(categorical_dummies, axis=1)\n",
    "    dummy_feature_names = categorical_df.columns.tolist()\n",
    "else:\n",
    "    categorical_df = pd.DataFrame()\n",
    "    dummy_feature_names = []\n",
    "\n",
    "print(f\"\\nNumeric features ({len(numeric_feature_cols)}):\")\n",
    "print(f\"{numeric_feature_cols}\")\n",
    "print(f\"\\nCategorical dummy features ({len(dummy_feature_names)}):\")\n",
    "print(f\"{dummy_feature_names}\")\n",
    "print(f\"\\nPotential target variables:\")\n",
    "for category, targets in target_cols.items():\n",
    "    print(f\"  - {category}: {targets}\")"
   ]
  },
  {
   "cell_type": "markdown",
   "metadata": {},
   "source": [
    "## 4. Data Quality Analysis"
   ]
  },
  {
   "cell_type": "code",
   "execution_count": null,
   "metadata": {},
   "outputs": [
    {
     "name": "stdout",
     "output_type": "stream",
     "text": [
      "Analyzing data quality...\n",
      "\n",
      "Missing values per numeric feature:\n",
      "          Feature  Missing Count  Missing %\n",
      "  tungsten_wt_pct           1577      95.46\n",
      "    cobalt_wt_pct           1523      92.19\n",
      "      arsenic_ppm           1418      85.84\n",
      "     antimony_ppm           1392      84.26\n",
      "          tin_ppm           1356      82.08\n",
      "        boron_ppm           1148      69.49\n",
      "    copper_wt_pct           1074      65.01\n",
      "    nickel_wt_pct            955      57.81\n",
      "      niobium_ppm            900      54.48\n",
      "  chromium_wt_pct            868      52.54\n",
      "molybdenum_wt_pct            859      52.00\n",
      "    aluminium_ppm            747      45.22\n",
      "  vanadium_wt_pct            724      43.83\n",
      "     titanium_ppm            717      43.40\n",
      "     nitrogen_ppm            469      28.39\n",
      "       oxygen_ppm            396      23.97\n",
      "        current_a            248      15.01\n",
      "        voltage_v            248      15.01\n",
      " interpass_temp_c             38       2.30\n",
      "      pwht_temp_c             13       0.79\n",
      "      pwht_time_h             13       0.79\n",
      "phosphorus_wt_pct             10       0.61\n",
      "   sulphur_wt_pct              4       0.24\n",
      "\n",
      "Categorical features analysis:\n",
      "  ac_dc: 215 missing (13.01%), 2 unique values: ['DC', 'AC']\n",
      "  electrode_polarity: 156 missing (9.44%), 3 unique values: ['+', '0', '-']\n",
      "  weld_type: 0 missing (0.00%), 10 unique values: ['MMA', 'ShMA', 'FCA', 'SA', 'TSA', 'SAA', 'GTAA', 'GMAA', 'NGSAW', 'NGGMA']\n"
     ]
    }
   ],
   "source": [
    "print(\"Analyzing data quality...\")\n",
    "\n",
    "# Analyze numeric features\n",
    "X_numeric = data[numeric_feature_cols].copy()\n",
    "print(f\"\\nMissing values per numeric feature:\")\n",
    "missing_counts = X_numeric.isnull().sum()\n",
    "missing_pct = (missing_counts / len(X_numeric) * 100).round(2)\n",
    "missing_df = pd.DataFrame({\n",
    "    'Feature': missing_counts.index,\n",
    "    'Missing Count': missing_counts.values,\n",
    "    'Missing %': missing_pct.values\n",
    "})\n",
    "missing_df = missing_df[missing_df['Missing Count'] > 0].sort_values('Missing %', ascending=False)\n",
    "print(missing_df.to_string(index=False))\n",
    "\n",
    "# Check categorical features\n",
    "print(f\"\\nCategorical features analysis:\")\n",
    "for cat_col in categorical_features:\n",
    "    if cat_col in data.columns:\n",
    "        n_missing = data[cat_col].isnull().sum()\n",
    "        pct_missing = (n_missing / len(data) * 100)\n",
    "        unique_vals = data[cat_col].dropna().unique()\n",
    "        print(f\"  {cat_col}: {n_missing} missing ({pct_missing:.2f}%), {len(unique_vals)} unique values: {list(unique_vals)}\")"
   ]
  },
  {
   "cell_type": "code",
   "execution_count": 17,
   "metadata": {},
   "outputs": [
    {
     "name": "stdout",
     "output_type": "stream",
     "text": [
      "Removing 11 features with >50% missing values:\n",
      "['nickel_wt_pct', 'chromium_wt_pct', 'molybdenum_wt_pct', 'copper_wt_pct', 'cobalt_wt_pct', 'tungsten_wt_pct', 'boron_ppm', 'niobium_ppm', 'tin_ppm', 'arsenic_ppm', 'antimony_ppm']\n",
      "\n",
      "Remaining numeric features: 16\n",
      "Categorical dummy features: 12\n",
      "Total features for PCA: 28\n"
     ]
    }
   ],
   "source": [
    "# Remove numeric features with too many missing values (>50%)\n",
    "threshold = 50\n",
    "features_to_keep = missing_pct[missing_pct <= threshold].index.tolist()\n",
    "features_removed = [col for col in numeric_feature_cols if col not in features_to_keep]\n",
    "print(f\"Removing {len(features_removed)} features with >{threshold}% missing values:\")\n",
    "print(f\"{features_removed}\")\n",
    "\n",
    "X_numeric = X_numeric[features_to_keep]\n",
    "print(f\"\\nRemaining numeric features: {len(features_to_keep)}\")\n",
    "print(f\"Categorical dummy features: {len(dummy_feature_names)}\")\n",
    "print(f\"Total features for PCA: {len(features_to_keep) + len(dummy_feature_names)}\")"
   ]
  },
  {
   "cell_type": "markdown",
   "metadata": {},
   "source": [
    "## 5. Imputation and Standardization"
   ]
  },
  {
   "cell_type": "code",
   "execution_count": 18,
   "metadata": {},
   "outputs": [
    {
     "name": "stdout",
     "output_type": "stream",
     "text": [
      "Imputing missing values with median strategy...\n",
      "Numeric imputation complete. No missing values: True\n",
      "\n",
      "Combining numeric and categorical features...\n",
      "Combined feature matrix shape: (1652, 28)\n",
      "Total features: 28\n",
      "\n",
      "Feature statistics (first 20 features):\n",
      "                       count      mean       std      min       25%      50%  \\\n",
      "carbon_wt_pct         1652.0    0.0755    0.0239    0.029    0.0618    0.074   \n",
      "silicon_wt_pct        1652.0    0.3286    0.1125    0.040    0.2700    0.320   \n",
      "manganese_wt_pct      1652.0    1.2028    0.3821    0.270    0.9400    1.270   \n",
      "sulphur_wt_pct        1652.0    0.0095    0.0112    0.001    0.0060    0.007   \n",
      "phosphorus_wt_pct     1652.0    0.0129    0.0196    0.002    0.0070    0.010   \n",
      "vanadium_wt_pct       1652.0    0.0431    0.1941    0.000    0.0024    0.005   \n",
      "oxygen_ppm            1652.0  437.4207  128.8406  132.000  399.0000  423.000   \n",
      "titanium_ppm          1652.0   62.3042   75.2513    0.000   38.0000   42.000   \n",
      "nitrogen_ppm          1652.0  104.7542   82.2946   21.000   77.0000   83.000   \n",
      "aluminium_ppm         1652.0   73.2994  109.2690    0.004   30.0000   42.000   \n",
      "current_a             1652.0  266.7533  182.1111  115.000  170.0000  170.000   \n",
      "voltage_v             1652.0   26.6155   11.8126   11.500   21.0000   21.000   \n",
      "heat_input_kj_per_mm  1652.0    1.7010    1.2985    0.600    1.0000    1.000   \n",
      "interpass_temp_c      1652.0  204.7900   39.0997   20.000  200.0000  200.000   \n",
      "pwht_temp_c           1652.0  304.2439  284.4128    0.000    0.0000  250.000   \n",
      "pwht_time_h           1652.0    5.0257    6.0780    0.000    0.0000    2.000   \n",
      "ac_dc_DC              1652.0    0.8444    0.3626    0.000    1.0000    1.000   \n",
      "electrode_polarity_-  1652.0    0.0042    0.0650    0.000    0.0000    0.000   \n",
      "electrode_polarity_0  1652.0    0.0230    0.1500    0.000    0.0000    0.000   \n",
      "weld_type_GMAA        1652.0    0.0024    0.0492    0.000    0.0000    0.000   \n",
      "\n",
      "                          75%      max  \n",
      "carbon_wt_pct           0.086     0.18  \n",
      "silicon_wt_pct          0.360     1.14  \n",
      "manganese_wt_pct        1.440     2.25  \n",
      "sulphur_wt_pct          0.010     0.14  \n",
      "phosphorus_wt_pct       0.014     0.25  \n",
      "vanadium_wt_pct         0.010     2.50  \n",
      "oxygen_ppm            453.000  1650.00  \n",
      "titanium_ppm           50.000   690.00  \n",
      "nitrogen_ppm           94.000   552.00  \n",
      "aluminium_ppm          50.000   680.00  \n",
      "current_a             290.000   900.00  \n",
      "voltage_v              29.000    75.36  \n",
      "heat_input_kj_per_mm    2.000     7.90  \n",
      "interpass_temp_c      200.000   300.00  \n",
      "pwht_temp_c           580.000   760.00  \n",
      "pwht_time_h            10.000    24.00  \n",
      "ac_dc_DC                1.000     1.00  \n",
      "electrode_polarity_-    0.000     1.00  \n",
      "electrode_polarity_0    0.000     1.00  \n",
      "weld_type_GMAA          0.000     1.00  \n"
     ]
    }
   ],
   "source": [
    "# Impute remaining missing values with median for numeric features\n",
    "print(\"Imputing missing values with median strategy...\")\n",
    "imputer = SimpleImputer(strategy='median')\n",
    "X_numeric_imputed = imputer.fit_transform(X_numeric)\n",
    "X_numeric_imputed = pd.DataFrame(X_numeric_imputed, columns=features_to_keep, index=X_numeric.index)\n",
    "print(f\"Numeric imputation complete. No missing values: {X_numeric_imputed.isnull().sum().sum() == 0}\")\n",
    "\n",
    "# Combine numeric and categorical features\n",
    "print(\"\\nCombining numeric and categorical features...\")\n",
    "if len(dummy_feature_names) > 0:\n",
    "    # Align indices\n",
    "    categorical_df_aligned = categorical_df.loc[X_numeric_imputed.index]\n",
    "    X_imputed = pd.concat([X_numeric_imputed, categorical_df_aligned], axis=1)\n",
    "    all_feature_names = features_to_keep + dummy_feature_names\n",
    "else:\n",
    "    X_imputed = X_numeric_imputed\n",
    "    all_feature_names = features_to_keep\n",
    "\n",
    "print(f\"Combined feature matrix shape: {X_imputed.shape}\")\n",
    "print(f\"Total features: {len(all_feature_names)}\")\n",
    "\n",
    "# Display basic statistics\n",
    "print(\"\\nFeature statistics (first 20 features):\")\n",
    "print(X_imputed.iloc[:, :20].describe().T.round(4))"
   ]
  },
  {
   "cell_type": "code",
   "execution_count": 19,
   "metadata": {},
   "outputs": [
    {
     "name": "stdout",
     "output_type": "stream",
     "text": [
      "Standardizing features (zero mean, unit variance)...\n",
      "Standardization complete.\n"
     ]
    }
   ],
   "source": [
    "# Standardize features for PCA\n",
    "print(\"Standardizing features (zero mean, unit variance)...\")\n",
    "scaler = StandardScaler()\n",
    "X_scaled = scaler.fit_transform(X_imputed)\n",
    "print(\"Standardization complete.\")"
   ]
  },
  {
   "cell_type": "markdown",
   "metadata": {},
   "source": [
    "## 6. PCA"
   ]
  },
  {
   "cell_type": "code",
   "execution_count": 20,
   "metadata": {},
   "outputs": [
    {
     "name": "stdout",
     "output_type": "stream",
     "text": [
      "Performing Principal Component Analysis...\n",
      "\n",
      "Explained variance by principal components:\n",
      "  PC  Explained Variance  Explained Variance %  Cumulative %\n",
      " PC1            0.156391                 15.64         15.64\n",
      " PC2            0.099832                  9.98         25.62\n",
      " PC3            0.078958                  7.90         33.52\n",
      " PC4            0.061636                  6.16         39.68\n",
      " PC5            0.052064                  5.21         44.89\n",
      " PC6            0.048151                  4.82         49.70\n",
      " PC7            0.042102                  4.21         53.91\n",
      " PC8            0.041455                  4.15         58.06\n",
      " PC9            0.038457                  3.85         61.90\n",
      "PC10            0.037272                  3.73         65.63\n",
      "\n",
      "Number of components explaining 90% variance: 18\n",
      "Number of components explaining 95% variance: 21\n"
     ]
    }
   ],
   "source": [
    "# Perform PCA\n",
    "print(\"Performing Principal Component Analysis...\")\n",
    "pca = PCA()\n",
    "X_pca = pca.fit_transform(X_scaled)\n",
    "\n",
    "# Explained variance analysis\n",
    "explained_var = pca.explained_variance_ratio_\n",
    "cumulative_var = np.cumsum(explained_var)\n",
    "\n",
    "print(\"\\nExplained variance by principal components:\")\n",
    "pca_summary = pd.DataFrame({\n",
    "    'PC': [f'PC{i+1}' for i in range(min(10, len(explained_var)))],\n",
    "    'Explained Variance': explained_var[:10],\n",
    "    'Explained Variance %': (explained_var[:10] * 100).round(2),\n",
    "    'Cumulative %': (cumulative_var[:10] * 100).round(2)\n",
    "})\n",
    "print(pca_summary.to_string(index=False))\n",
    "\n",
    "# Find number of components for 90% and 95% variance\n",
    "n_components_90 = np.argmax(cumulative_var >= 0.90) + 1\n",
    "n_components_95 = np.argmax(cumulative_var >= 0.95) + 1\n",
    "print(f\"\\nNumber of components explaining 90% variance: {n_components_90}\")\n",
    "print(f\"Number of components explaining 95% variance: {n_components_95}\")"
   ]
  },
  {
   "cell_type": "markdown",
   "metadata": {},
   "source": [
    "## 7. Feature Contributions to Principal Components"
   ]
  },
  {
   "cell_type": "code",
   "execution_count": 21,
   "metadata": {},
   "outputs": [
    {
     "name": "stdout",
     "output_type": "stream",
     "text": [
      "Feature contributions to principal components:\n",
      "\n",
      "Principal Component 1 (explains 15.64% variance):\n",
      "Top 10 contributing features:\n",
      "  + current_a                     : 0.4502\n",
      "  + heat_input_kj_per_mm          : 0.4262\n",
      "  - weld_type_MMA                 : 0.3964\n",
      "  + voltage_v                     : 0.3668\n",
      "  + weld_type_SA                  : 0.3066\n",
      "  + weld_type_TSA                 : 0.2741\n",
      "  + carbon_wt_pct                 : 0.2048\n",
      "  + sulphur_wt_pct                : 0.1756\n",
      "  + phosphorus_wt_pct             : 0.1410\n",
      "  + interpass_temp_c              : 0.1392\n",
      "\n",
      "Principal Component 2 (explains 9.98% variance):\n",
      "Top 10 contributing features:\n",
      "  + pwht_temp_c                   : 0.4131\n",
      "  - silicon_wt_pct                : 0.3512\n",
      "  + pwht_time_h                   : 0.3310\n",
      "  - titanium_ppm                  : 0.2995\n",
      "  - manganese_wt_pct              : 0.2917\n",
      "  + nitrogen_ppm                  : 0.2871\n",
      "  - aluminium_ppm                 : 0.2808\n",
      "  + oxygen_ppm                    : 0.2034\n",
      "  - ac_dc_DC                      : 0.1904\n",
      "  - interpass_temp_c              : 0.1858\n",
      "\n",
      "Principal Component 3 (explains 7.90% variance):\n",
      "Top 10 contributing features:\n",
      "  + sulphur_wt_pct                : 0.4184\n",
      "  + phosphorus_wt_pct             : 0.4066\n",
      "  + ac_dc_DC                      : 0.3562\n",
      "  - electrode_polarity_0          : 0.3507\n",
      "  - weld_type_SA                  : 0.3077\n",
      "  + weld_type_TSA                 : 0.2381\n",
      "  - carbon_wt_pct                 : 0.2296\n",
      "  + oxygen_ppm                    : 0.2061\n",
      "  + voltage_v                     : 0.1875\n",
      "  - interpass_temp_c              : 0.1798\n",
      "\n",
      "Principal Component 4 (explains 6.16% variance):\n",
      "Top 10 contributing features:\n",
      "  + weld_type_TSA                 : 0.4595\n",
      "  - phosphorus_wt_pct             : 0.4235\n",
      "  - sulphur_wt_pct                : 0.3784\n",
      "  + voltage_v                     : 0.3314\n",
      "  - aluminium_ppm                 : 0.3032\n",
      "  - silicon_wt_pct                : 0.2919\n",
      "  - weld_type_SA                  : 0.2869\n",
      "  - pwht_temp_c                   : 0.1780\n",
      "  - interpass_temp_c              : 0.1116\n",
      "  - titanium_ppm                  : 0.1068\n",
      "\n",
      "Principal Component 5 (explains 5.21% variance):\n",
      "Top 10 contributing features:\n",
      "  + oxygen_ppm                    : 0.3440\n",
      "  + weld_type_NGSAW               : 0.3163\n",
      "  + ac_dc_DC                      : 0.3043\n",
      "  - phosphorus_wt_pct             : 0.2998\n",
      "  - electrode_polarity_0          : 0.2782\n",
      "  - sulphur_wt_pct                : 0.2754\n",
      "  + pwht_temp_c                   : 0.2524\n",
      "  - manganese_wt_pct              : 0.2512\n",
      "  + aluminium_ppm                 : 0.2379\n",
      "  + nitrogen_ppm                  : 0.2220\n"
     ]
    }
   ],
   "source": [
    "# Analyze feature contributions to principal components\n",
    "print(\"Feature contributions to principal components:\")\n",
    "n_top_components = 5\n",
    "n_top_features = 10\n",
    "\n",
    "for i in range(n_top_components):\n",
    "    print(f\"\\nPrincipal Component {i+1} (explains {explained_var[i]*100:.2f}% variance):\")\n",
    "    # Get absolute loadings\n",
    "    loadings = pca.components_[i]\n",
    "    feature_importance = pd.DataFrame({\n",
    "        'Feature': all_feature_names,\n",
    "        'Loading': loadings,\n",
    "        'Abs_Loading': np.abs(loadings)\n",
    "    }).sort_values('Abs_Loading', ascending=False)\n",
    "\n",
    "    print(f\"Top {n_top_features} contributing features:\")\n",
    "    for idx, row in feature_importance.head(n_top_features).iterrows():\n",
    "        sign = '+' if row['Loading'] > 0 else '-'\n",
    "        print(f\"  {sign} {row['Feature']:30s}: {row['Abs_Loading']:.4f}\")"
   ]
  },
  {
   "cell_type": "markdown",
   "metadata": {},
   "source": [
    "## 8. Target Variable Analysis"
   ]
  },
  {
   "cell_type": "code",
   "execution_count": 22,
   "metadata": {},
   "outputs": [
    {
     "name": "stdout",
     "output_type": "stream",
     "text": [
      "Analyzing potential target variables:\n",
      "\n",
      "Mechanical Properties:\n",
      "  yield_strength_mpa  :  780 samples ( 47.2%), mean=  508.56, std=   92.87\n",
      "  ultimate_tensile_strength_mpa:  738 samples ( 44.7%), mean=  594.39, std=   88.64\n",
      "  elongation_pct      :  700 samples ( 42.4%), mean=   26.28, std=    4.90\n",
      "  reduction_area_pct  :  705 samples ( 42.7%), mean=   71.80, std=    8.93\n",
      "\n",
      "Impact Toughness:\n",
      "  charpy_temp_c       :  879 samples ( 53.2%), mean=  -34.61, std=   34.74\n",
      "  charpy_toughness_j  :  879 samples ( 53.2%), mean=   87.69, std=   50.12\n",
      "  hardness_kg_per_mm2 :   80 samples (  4.8%), mean=  215.70, std=   24.66\n",
      "  fatt50_pct          :   31 samples (  1.9%), mean=  -31.10, std=   43.64\n",
      "\n",
      "Microstructure:\n",
      "  primary_ferrite_pct :   98 samples (  5.9%), mean=   19.16, std=   11.00\n",
      "  ferrite_second_phase_pct:   90 samples (  5.4%), mean=   25.96, std=   21.28\n",
      "  acicular_ferrite_pct:   90 samples (  5.4%), mean=   52.83, std=   23.48\n",
      "  martensite_pct      :   89 samples (  5.4%), mean=    0.34, std=    3.18\n",
      "  ferrite_carbide_aggregate_pct:   89 samples (  5.4%), mean=    0.44, std=    1.40\n"
     ]
    }
   ],
   "source": [
    "print(\"Analyzing potential target variables:\")\n",
    "for category, targets in target_cols.items():\n",
    "    print(f\"\\n{category}:\")\n",
    "    available_targets = [t for t in targets if t in data.columns]\n",
    "    for target in available_targets:\n",
    "        target_data = data[target]\n",
    "        n_valid = target_data.notna().sum()\n",
    "        pct_valid = (n_valid / len(data) * 100)\n",
    "        if n_valid > 0:\n",
    "            mean_val = target_data.mean()\n",
    "            std_val = target_data.std()\n",
    "            print(f\"  {target:20s}: {n_valid:4d} samples ({pct_valid:5.1f}%), \"\n",
    "                  f\"mean={mean_val:8.2f}, std={std_val:8.2f}\")\n",
    "        else:\n",
    "            print(f\"  {target:20s}: No data available\")"
   ]
  }
 ],
 "metadata": {
  "kernelspec": {
   "display_name": "gwd",
   "language": "python",
   "name": "python3"
  },
  "language_info": {
   "codemirror_mode": {
    "name": "ipython",
    "version": 3
   },
   "file_extension": ".py",
   "mimetype": "text/x-python",
   "name": "python",
   "nbconvert_exporter": "python",
   "pygments_lexer": "ipython3",
   "version": "3.13.5"
  }
 },
 "nbformat": 4,
 "nbformat_minor": 4
}
